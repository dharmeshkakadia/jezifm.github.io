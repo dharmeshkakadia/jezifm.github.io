{
 "cells": [
  {
   "cell_type": "markdown",
   "metadata": {},
   "source": [
    "# Little Data\n",
    "\n",
    "Article aims to analyze the [post](article-link) regarding how small data can be more useful then bigger dataset\n",
    "\n",
    "\n",
    "[article-link]: https://blog.clevertap.com/do-you-need-big-data-or-smart-data-part-i/?utm_source=ref_article_patterns"
   ]
  },
  {
   "cell_type": "markdown",
   "metadata": {},
   "source": [
    "## Key Requirement for Actionable Insights\n",
    "\n",
    "1. Presence of intelligent infrastructure to process data\n",
    "2. Data collected is either population or representative"
   ]
  },
  {
   "cell_type": "markdown",
   "metadata": {},
   "source": [
    "## Comparison of little vs big data\n",
    "\n",
    "\n",
    "Attribute|Little|Big\n",
    "---|---\n",
    "Obervations (A)|100|1Meg\n",
    "Observation (B)|100|1Meg\n",
    "Mean (A)|10.01|10.01\n",
    "Mean (B)|10.13|10.02\n",
    "Standard Deviation (A)|0.912|0.927\n",
    "Standard Deviation (B)|0.92|0.921\n",
    "p-value|0.814|2.2e-16"
   ]
  },
  {
   "cell_type": "markdown",
   "metadata": {},
   "source": [
    "#### P-value definition\n",
    "\n",
    "The P value, or calculated probability, is the **probability of finding the observed**, or more extreme, results when the **null hypothesis** (H0) of a study question is **true**"
   ]
  },
  {
   "cell_type": "markdown",
   "metadata": {},
   "source": [
    "In this case, big data's **difference in mean** statistically significant. Meaning there is a low chance of observing both mean if the mean is the same (**null hypothesis**)"
   ]
  },
  {
   "cell_type": "markdown",
   "metadata": {},
   "source": [
    "### Sampling\n",
    "\n",
    "![soup](http://luluandlattes.com/wp-content/uploads/2015/10/soup.jpg)\n",
    "\n",
    "Picture yourself cooking your favorite soup. Do you taste the whole soup to check the flavor or just a spoonful? If you taste a spoonful, you are sampling.\n",
    "\n",
    "Can one benefit from sampling? The answer is **YES**, if done the right way. The right sample will not only be able to capture the pattern in the data but also be computationally inexpensive to analyze compared to a large dataset.\n",
    "\n",
    "A good sample could make your Big Data **smart**. A good sample should be representative of the population, objective-driven, flexible on the size depending on the circumstances, generated with right unit – i.e. if your study is to measure job satisfaction of bank employees, the universe should comprise of only bank employees, and generated using the right sampling techniques."
   ]
  },
  {
   "cell_type": "markdown",
   "metadata": {},
   "source": [
    "### Sampling Techniques\n",
    "\n",
    "**Probability sampling** is one in which every element of the population has a chance or a probability (greater than zero) of selection, and this probability can be determined.\n",
    "\n",
    "* Simple Random Sampling\n",
    "* Systematic Sampling\n",
    "* Cluster Sampling\n",
    "* Stratified Sampling\n",
    "* Multistage Sampling\n",
    "* Multiphase Sampling\n",
    "\n",
    "**Non-Probability sampling** is one where some elements of the population have no chance of selection or where the selection probability cannot be accurately determined.\n",
    "\n",
    "* Accidental/Convenience Sampling\n",
    "* Purposive/Judgemental Sampling\n",
    "* Quota Sampling"
   ]
  },
  {
   "cell_type": "markdown",
   "metadata": {},
   "source": [
    "taldksjf"
   ]
  },
  {
   "cell_type": "code",
   "execution_count": null,
   "metadata": {
    "collapsed": true
   },
   "outputs": [],
   "source": []
  }
 ],
 "metadata": {
  "kernelspec": {
   "display_name": "Python 2",
   "language": "python",
   "name": "python2"
  },
  "language_info": {
   "codemirror_mode": {
    "name": "ipython",
    "version": 2
   },
   "file_extension": ".py",
   "mimetype": "text/x-python",
   "name": "python",
   "nbconvert_exporter": "python",
   "pygments_lexer": "ipython2",
   "version": "2.7.11"
  }
 },
 "nbformat": 4,
 "nbformat_minor": 0
}
