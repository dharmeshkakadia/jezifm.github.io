{
 "cells": [
  {
   "cell_type": "code",
   "execution_count": 2,
   "metadata": {
    "collapsed": true
   },
   "outputs": [],
   "source": [
    "import facepy"
   ]
  },
  {
   "cell_type": "code",
   "execution_count": 3,
   "metadata": {
    "collapsed": true
   },
   "outputs": [],
   "source": [
    "oauth_access_token = 'EAACEdEose0cBAE03JCyVG2ZBvNa8QUjbZBpTKLmx3lJC9lshkKRFiNDvQ0b9Md2HwdiTgC9lf1vkUz6V8aiA4fR6Fh95P5pSNYEO7yX9liI7Jk9dA0QTjOYwXJcyrSYHLtiKrdD7REP9uR3DnZAwC23q0v8Bm5C0AJ9xWJfdwZDZD'"
   ]
  },
  {
   "cell_type": "code",
   "execution_count": 4,
   "metadata": {
    "collapsed": false
   },
   "outputs": [],
   "source": [
    "from facepy import GraphAPI\n",
    "\n",
    "# Initialize the Graph API with a valid access token (optional,\n",
    "# but will allow you to do all sorts of fun stuff).\n",
    "graph = GraphAPI(oauth_access_token)\n",
    "\n",
    "# Get my latest posts\n",
    "# graph.get('me/posts')"
   ]
  },
  {
   "cell_type": "code",
   "execution_count": 6,
   "metadata": {
    "collapsed": false
   },
   "outputs": [
    {
     "data": {
      "text/plain": [
       "{u'data': [{u'id': u'1168987868', u'name': u'Edmark Harold Sanchez'},\n",
       "  {u'id': u'929804647041088', u'name': u'Angie Tobias'},\n",
       "  {u'id': u'867870286568349', u'name': u'Mon Keith de Gucena'}],\n",
       " u'paging': {u'cursors': {u'after': u'QVFIUjlQSENkTmt2eDNJWFo3elhwQV9QeVh6SmR5X2kxWHlCSE5JSnZApVXJHQlFEZAkdieXpER3dRdFV4RjBBUjcxWTBHUm9uczVvQ3V6LW8xVzVvRWUxWXZAR',\n",
       "   u'before': u'QVFIUl9kcS1ROTBtTFlreW92Qi1yQmlneWVpZAWNBSVJKVVRoMGlGS2lvemFpWHhiYmZARWmZAxQU5iclVFUVZAJbnUwMkcZD'}},\n",
       " u'summary': {u'total_count': 555}}"
      ]
     },
     "execution_count": 6,
     "metadata": {},
     "output_type": "execute_result"
    }
   ],
   "source": [
    "r = graph.get('/me/friends')\n",
    "r"
   ]
  },
  {
   "cell_type": "code",
   "execution_count": 43,
   "metadata": {
    "collapsed": false
   },
   "outputs": [
    {
     "data": {
      "text/plain": [
       "'{\"paging\": {\"cursors\": {\"after\": \"QVFIUjZAUdENMT1F3ckJxcnA1ZADY4cmxSbWJJU014X2VINjBHeWhhUTNORVdiTzFnVFVHVHR0dzJERXIwYm9TU2ZAJaDFRQjlWQ014TG8zMDZALajU4eGVpa2VB\", \"before\": \"QVFIUk1PdmNIMnJrNjZA3WkxQdGp6d2pLSUlHRjlsa2dtUlVZAb3VLcGRObVNvcEVlMEJIVDhqaHZAPZA3QtSm1SaExXaTkZD\"}}, \"data\": [{\"name\": \"Edmark Harold Sanchez\", \"id\": \"1168987868\"}, {\"name\": \"Angie Tobias\", \"id\": \"929804647041088\"}, {\"name\": \"Mon Keith de Gucena\", \"id\": \"867870286568349\"}], \"summary\": {\"total_count\": 555}}'"
      ]
     },
     "execution_count": 43,
     "metadata": {},
     "output_type": "execute_result"
    }
   ],
   "source": [
    "import json\n",
    "json.dumps(r)"
   ]
  },
  {
   "cell_type": "code",
   "execution_count": 7,
   "metadata": {
    "collapsed": false
   },
   "outputs": [
    {
     "data": {
      "text/plain": [
       "{u'data': [], u'summary': {u'total_count': 555}}"
      ]
     },
     "execution_count": 7,
     "metadata": {},
     "output_type": "execute_result"
    }
   ],
   "source": [
    "graph.get('me/friends?after=QVFIUjlQSENkTmt2eDNJWFo3elhwQV9QeVh6SmR5X2kxWHlCSE5JSnZApVXJHQlFEZAkdieXpER3dRdFV4RjBBUjcxWTBHUm9uczVvQ3V6LW8xVzVvRWUxWXZAR')"
   ]
  },
  {
   "cell_type": "code",
   "execution_count": null,
   "metadata": {
    "collapsed": true
   },
   "outputs": [],
   "source": []
  }
 ],
 "metadata": {
  "kernelspec": {
   "display_name": "Python 2",
   "language": "python",
   "name": "python2"
  },
  "language_info": {
   "codemirror_mode": {
    "name": "ipython",
    "version": 2
   },
   "file_extension": ".py",
   "mimetype": "text/x-python",
   "name": "python",
   "nbconvert_exporter": "python",
   "pygments_lexer": "ipython2",
   "version": "2.7.11"
  }
 },
 "nbformat": 4,
 "nbformat_minor": 0
}
