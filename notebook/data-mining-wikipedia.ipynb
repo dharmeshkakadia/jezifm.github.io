{
 "cells": [
  {
   "cell_type": "markdown",
   "metadata": {},
   "source": [
    "### Notebook"
   ]
  },
  {
   "cell_type": "code",
   "execution_count": 1,
   "metadata": {
    "collapsed": false
   },
   "outputs": [],
   "source": [
    "from BeautifulSoup import BeautifulSoup\n",
    "from collections import deque\n",
    "import logging\n",
    "import numpy as np\n",
    "import pandas as pd\n",
    "import re\n",
    "import urllib2\n",
    "import os\n",
    "from sklearn.preprocessing import LabelEncoder"
   ]
  },
  {
   "cell_type": "markdown",
   "metadata": {},
   "source": [
    "#### Config"
   ]
  },
  {
   "cell_type": "code",
   "execution_count": 2,
   "metadata": {
    "collapsed": false
   },
   "outputs": [],
   "source": [
    "host = 'https://en.wikipedia.org'\n",
    "url_path = '/wiki/Data_science'\n",
    "MAX_DEGREE = 5\n",
    "\n",
    "# logs\n",
    "logger = logging.getLogger(__name__)\n",
    "logger.setLevel(logging.INFO)\n",
    "handler = logging.FileHandler('scrap.log')\n",
    "handler.setLevel(logging.INFO)\n",
    "formatter = logging.Formatter('%(asctime)s - %(name)s - %(levelname)s - %(message)s')\n",
    "handler.setFormatter(formatter)\n",
    "logger.addHandler(handler)"
   ]
  },
  {
   "cell_type": "markdown",
   "metadata": {},
   "source": [
    "#### Define helper function"
   ]
  },
  {
   "cell_type": "code",
   "execution_count": 32,
   "metadata": {
    "collapsed": false
   },
   "outputs": [],
   "source": [
    "def clean_url(url):\n",
    "    return re.sub('[^\\w]+', '', url)\n",
    "\n",
    "def get_page(url):\n",
    "    page = None\n",
    "    file_path = 'cache/{url}'.format(url=clean_url(url))\n",
    "    if not os.path.isfile(file_path):\n",
    "        with open(file_path, 'w') as f:\n",
    "            page = urllib2.urlopen('{host}{url_path}'.format(host=host, url_path=url_path)).read()\n",
    "            f.write(page)\n",
    "    with open(file_path, 'r') as f:\n",
    "        page = f.read()\n",
    "    return page\n",
    "\n",
    "\n",
    "def get_links(url):\n",
    "    page = get_page(url)\n",
    "    soup = BeautifulSoup(page)\n",
    "    soup.prettify()\n",
    "    return [anchor['href'] \n",
    "            for anchor in soup.findAll('a', href=True) \n",
    "            if re.match(r'^/wiki/\\w+$', anchor['href'])]\n",
    "\n",
    "def clean_string(string_input):\n",
    "    string_output = re.sub(r'.*/([^/]*)$', r'\\1', string_input)\n",
    "    string_output = string_output.replace('_', ' ').title()\n",
    "    return string_output"
   ]
  },
  {
   "cell_type": "markdown",
   "metadata": {},
   "source": [
    "#### Initialize Variables"
   ]
  },
  {
   "cell_type": "code",
   "execution_count": 4,
   "metadata": {
    "collapsed": false
   },
   "outputs": [],
   "source": [
    "data = []\n",
    "visited_urls = []\n",
    "target_urls = deque([(url_path, 0)])"
   ]
  },
  {
   "cell_type": "markdown",
   "metadata": {},
   "source": [
    "#### Start scrapping\n",
    "\n",
    "How it works?\n",
    "\n",
    "In simple terms script is a web crawler, it downloads the html and any html linking to it. Connection between each pages is being saved and will be used for visualization."
   ]
  },
  {
   "cell_type": "code",
   "execution_count": 5,
   "metadata": {
    "collapsed": false,
    "scrolled": false
   },
   "outputs": [],
   "source": [
    "while target_urls:\n",
    "    url, degree = target_urls.pop()    \n",
    "    if degree <= MAX_DEGREE:\n",
    "        logger.info('Degree: {degree}, URL: {url}'.format(degree=degree, url=url))\n",
    "        visited_urls.append(url)\n",
    "        for link in get_links('{host}{url}'.format(host=host, url=url)):\n",
    "            data.append((url, link, degree))\n",
    "            if link not in visited_urls and link not in [i for i, _ in target_urls]:\n",
    "                target_urls.append((link, degree+1))"
   ]
  },
  {
   "cell_type": "markdown",
   "metadata": {},
   "source": [
    "Display sample results"
   ]
  },
  {
   "cell_type": "code",
   "execution_count": 6,
   "metadata": {
    "collapsed": false
   },
   "outputs": [
    {
     "data": {
      "text/html": [
       "<div>\n",
       "<table border=\"1\" class=\"dataframe\">\n",
       "  <thead>\n",
       "    <tr style=\"text-align: right;\">\n",
       "      <th></th>\n",
       "      <th>from</th>\n",
       "      <th>to</th>\n",
       "      <th>degree</th>\n",
       "    </tr>\n",
       "  </thead>\n",
       "  <tbody>\n",
       "    <tr>\n",
       "      <th>3711</th>\n",
       "      <td>/wiki/Data_compression</td>\n",
       "      <td>/wiki/Health_care</td>\n",
       "      <td>1</td>\n",
       "    </tr>\n",
       "    <tr>\n",
       "      <th>3664</th>\n",
       "      <td>/wiki/Data_compression</td>\n",
       "      <td>/wiki/Cartogram</td>\n",
       "      <td>1</td>\n",
       "    </tr>\n",
       "    <tr>\n",
       "      <th>1578</th>\n",
       "      <td>/wiki/Peter_Naur</td>\n",
       "      <td>/wiki/Boxplot</td>\n",
       "      <td>1</td>\n",
       "    </tr>\n",
       "    <tr>\n",
       "      <th>5691</th>\n",
       "      <td>/wiki/Chartjunk</td>\n",
       "      <td>/wiki/Business</td>\n",
       "      <td>1</td>\n",
       "    </tr>\n",
       "    <tr>\n",
       "      <th>2348</th>\n",
       "      <td>/wiki/Humanities</td>\n",
       "      <td>/wiki/Artificial_intelligence</td>\n",
       "      <td>1</td>\n",
       "    </tr>\n",
       "  </tbody>\n",
       "</table>\n",
       "</div>"
      ],
      "text/plain": [
       "                        from                             to  degree\n",
       "3711  /wiki/Data_compression              /wiki/Health_care       1\n",
       "3664  /wiki/Data_compression                /wiki/Cartogram       1\n",
       "1578        /wiki/Peter_Naur                  /wiki/Boxplot       1\n",
       "5691         /wiki/Chartjunk                 /wiki/Business       1\n",
       "2348        /wiki/Humanities  /wiki/Artificial_intelligence       1"
      ]
     },
     "execution_count": 6,
     "metadata": {},
     "output_type": "execute_result"
    }
   ],
   "source": [
    "pd.DataFrame(data, columns=['from', 'to', 'degree']).sample(5)"
   ]
  },
  {
   "cell_type": "code",
   "execution_count": 33,
   "metadata": {
    "collapsed": false
   },
   "outputs": [],
   "source": [
    "# save output\n",
    "df = pd.DataFrame(data, columns=['from', 'to', 'degree'])\n",
    "df['from'] = df['from'].apply(clean_string)\n",
    "df['to'] = df['to'].apply(clean_string)\n",
    "le = LabelEncoder()\n",
    "le.fit(np.union1d(df['from'], df['to']))\n",
    "df['source'] = le.transform(df['from'])\n",
    "df['target'] = le.transform(df['to'])\n",
    "df.to_csv('output/data_science_links.csv', index=False)"
   ]
  },
  {
   "cell_type": "code",
   "execution_count": null,
   "metadata": {
    "collapsed": true
   },
   "outputs": [],
   "source": []
  }
 ],
 "metadata": {
  "kernelspec": {
   "display_name": "Python 2",
   "language": "python",
   "name": "python2"
  },
  "language_info": {
   "codemirror_mode": {
    "name": "ipython",
    "version": 2
   },
   "file_extension": ".py",
   "mimetype": "text/x-python",
   "name": "python",
   "nbconvert_exporter": "python",
   "pygments_lexer": "ipython2",
   "version": "2.7.11"
  }
 },
 "nbformat": 4,
 "nbformat_minor": 0
}
